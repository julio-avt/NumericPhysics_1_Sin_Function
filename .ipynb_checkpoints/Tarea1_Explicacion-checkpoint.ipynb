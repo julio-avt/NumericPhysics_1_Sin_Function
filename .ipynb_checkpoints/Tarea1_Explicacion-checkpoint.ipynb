{
 "cells": [
  {
   "cell_type": "markdown",
   "id": "ccb7dc3b",
   "metadata": {},
   "source": [
    "# Física Numérica"
   ]
  },
  {
   "cell_type": "markdown",
   "id": "b594a2de",
   "metadata": {},
   "source": [
    "## Tarea 1"
   ]
  },
  {
   "cell_type": "markdown",
   "id": "bcb4d3eb",
   "metadata": {},
   "source": [
    "1.  Escriba un programa que determine los límites de underflow y overflow para Python (dentro de un factor de 2) en su computadora. \n",
    "\n",
    "Solución:\n",
    "\n",
    "* El siguiente algoritmo aproxima el valor del underflow a través de un ciclo while. Se definen dos variables $n$ que contará las veces en que se repite el ciclo while y $underflow$ que será la variable que se hará pequeña en cada repetición  del ciclo, hasta alcanzar la aproximación deseada.\n",
    "    La variable $underflow$, después de un cierto número de repeticiones llegará a ser tan pequeña que la computadora la interpretará como cero. Cuando esto suceda, el ciclo while se romperá y el contador $n$ tendrá el mínimo entero tal que la computadora interpreta lo siguiente: \n",
    "$$underflow \\times \\left(\\frac{1}{2^n}\\right)= 0$$\n",
    "    Por lo que, para el entero $n-1$ la computadora aún interpretará la operación distinta de cero. Es decir:\n",
    "$$underflow \\times \\left(\\frac{1}{2^{n-1}}\\right)\\neq 0$$\n",
    "    Ese número distinto de cero, será la aproximación obtenida para el underflow de nuestra computadora por un factor de 2. \n",
    "    A pesar de no haber obtenido el valor exacto del underflow, hemos obtenido dos cotas que contienen este valor exacto. Estas cotas son los extremos del intervalor $[2^{-(n-1)},2^{-n}]$."
   ]
  },
  {
   "cell_type": "code",
   "execution_count": 56,
   "id": "b91703d8",
   "metadata": {},
   "outputs": [
    {
     "name": "stdout",
     "output_type": "stream",
     "text": [
      "n = 1075\n",
      "Underflow = 5e-324\n"
     ]
    }
   ],
   "source": [
    "n = 0\n",
    "underflow = 1\n",
    "\n",
    "while underflow != 0:\n",
    "    n+=1\n",
    "    underflow /= 2.0\n",
    "    \n",
    "\n",
    "print(f\"n = {n}\")\n",
    "print(f\"Underflow = {(1/2**(n-1))}\")\n"
   ]
  },
  {
   "cell_type": "markdown",
   "id": "d6c0d8e5",
   "metadata": {},
   "source": [
    "* Ahora obtendremos una aproximación para el overflow.\n",
    "    El algoritmo es muy similar, solo que esta vez se multiplicará por un factor de dos para que la variable $overflow$ se haga cada vez más grande, hasta que la computadora lo interprete como infinito. De esa forma, nuestro contador $m$ guardará el mínimo entero tal que la computadora interpreta lo siguiente:\n",
    "    $$overflow\\times\\left(2^m\\right)\\approx \\infty$$\n",
    "   Al ser $m$ el mínimo entero, entonces el entero $m-1$ cumple que el resultado de la operación $overflow\\times\\left(2^{m-1}\\right)$ es finito para la computadora y no arroja infinito. De esa forma, el programa arrojará la aproximación obtenida para el overflow para nuestra computadora por un factor de 2.\n",
    "   Aquí tampoco hemos obtenido el valor exacto del overflow, pero nuevamente hemos encontrado que se encuentra dentro del intervalo $[2^{(m-1)},2^{m}]$."
   ]
  },
  {
   "cell_type": "code",
   "execution_count": 57,
   "id": "92a45595",
   "metadata": {},
   "outputs": [
    {
     "name": "stdout",
     "output_type": "stream",
     "text": [
      "m = 1024\n",
      "Overflow = 8.98846567431158e+307\n"
     ]
    }
   ],
   "source": [
    "m=0             \n",
    "overflow = 1.0\n",
    "                      \n",
    "while overflow != float('inf'): \n",
    "    overflow *= 2\n",
    "    m+=1\n",
    "\n",
    "print(f\"m = {m}\")\n",
    "print(f\"Overflow = {2.0**(m-1)}\")"
   ]
  },
  {
   "cell_type": "markdown",
   "id": "0ccc7706",
   "metadata": {},
   "source": [
    "2. Escriba un programa y determine la precisión de máquina $\\epsilon_m$ (dentro de un factor de 2) de su computadora."
   ]
  },
  {
   "cell_type": "code",
   "execution_count": null,
   "id": "61e093ab",
   "metadata": {},
   "outputs": [],
   "source": []
  },
  {
   "cell_type": "code",
   "execution_count": null,
   "id": "f8513174",
   "metadata": {},
   "outputs": [],
   "source": []
  }
 ],
 "metadata": {
  "kernelspec": {
   "display_name": "Python 3",
   "language": "python",
   "name": "python3"
  },
  "language_info": {
   "codemirror_mode": {
    "name": "ipython",
    "version": 3
   },
   "file_extension": ".py",
   "mimetype": "text/x-python",
   "name": "python",
   "nbconvert_exporter": "python",
   "pygments_lexer": "ipython3",
   "version": "3.8.8"
  }
 },
 "nbformat": 4,
 "nbformat_minor": 5
}
